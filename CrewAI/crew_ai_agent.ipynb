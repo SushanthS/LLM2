{
 "cells": [
  {
   "cell_type": "code",
   "execution_count": 1,
   "metadata": {},
   "outputs": [],
   "source": [
    "import warnings\n",
    "warnings.filterwarnings('ignore')"
   ]
  },
  {
   "cell_type": "code",
   "execution_count": 2,
   "metadata": {},
   "outputs": [
    {
     "name": "stdout",
     "output_type": "stream",
     "text": [
      "sagemaker.config INFO - Not applying SDK defaults from location: /etc/xdg/sagemaker/config.yaml\n",
      "sagemaker.config INFO - Not applying SDK defaults from location: /home/svallath/.config/sagemaker/config.yaml\n"
     ]
    }
   ],
   "source": [
    "from crewai import Agent, Task, Crew"
   ]
  },
  {
   "cell_type": "code",
   "execution_count": 3,
   "metadata": {},
   "outputs": [],
   "source": [
    "import os\n",
    "# from utils import get_openai_api_key\n",
    "\n",
    "# openai_api_key = get_openai_api_key()\n",
    "openai_api_key = \"\"\n",
    "os.environ[\"OPENAI_MODEL_NAME\"] = 'gpt-3.5-turbo'"
   ]
  },
  {
   "cell_type": "code",
   "execution_count": 4,
   "metadata": {},
   "outputs": [],
   "source": [
    "planner = Agent(\n",
    "    role=\"Content Planner\",\n",
    "    goal=\"Plan engaging and factually accurate content on {topic}\",\n",
    "    backstory=\"You're working on planning a blog article \"\n",
    "              \"about the topic: {topic}.\"\n",
    "              \"You collect information that helps the \"\n",
    "              \"audience learn something \"\n",
    "              \"and make informed decisions. \"\n",
    "              \"Your work is the basis for \"\n",
    "              \"the Content Writer to write an article on this topic.\",\n",
    "    allow_delegation=False,\n",
    "    verbose=True\n",
    ")"
   ]
  },
  {
   "cell_type": "code",
   "execution_count": 5,
   "metadata": {},
   "outputs": [],
   "source": [
    "writer = Agent(\n",
    "    role=\"Content Writer\",\n",
    "    goal=\"Write insightful and factually accurate \"\n",
    "         \"opinion piece about the topic: {topic}\",\n",
    "    backstory=\"You're working on a writing \"\n",
    "              \"a new opinion piece about the topic: {topic}. \"\n",
    "              \"You base your writing on the work of \"\n",
    "              \"the Content Planner, who provides an outline \"\n",
    "              \"and relevant context about the topic. \"\n",
    "              \"You follow the main objectives and \"\n",
    "              \"direction of the outline, \"\n",
    "              \"as provide by the Content Planner. \"\n",
    "              \"You also provide objective and impartial insights \"\n",
    "              \"and back them up with information \"\n",
    "              \"provide by the Content Planner. \"\n",
    "              \"You acknowledge in your opinion piece \"\n",
    "              \"when your statements are opinions \"\n",
    "              \"as opposed to objective statements.\",\n",
    "    allow_delegation=False,\n",
    "    verbose=True\n",
    ")"
   ]
  },
  {
   "cell_type": "code",
   "execution_count": 6,
   "metadata": {},
   "outputs": [],
   "source": [
    "editor = Agent(\n",
    "    role=\"Editor\",\n",
    "    goal=\"Edit a given blog post to align with \"\n",
    "         \"the writing style of the organization. \",\n",
    "    backstory=\"You are an editor who receives a blog post \"\n",
    "              \"from the Content Writer. \"\n",
    "              \"Your goal is to review the blog post \"\n",
    "              \"to ensure that it follows journalistic best practices,\"\n",
    "              \"provides balanced viewpoints \"\n",
    "              \"when providing opinions or assertions, \"\n",
    "              \"and also avoids major controversial topics \"\n",
    "              \"or opinions when possible.\",\n",
    "    allow_delegation=False,\n",
    "    verbose=True\n",
    ")"
   ]
  },
  {
   "cell_type": "code",
   "execution_count": 7,
   "metadata": {},
   "outputs": [],
   "source": [
    "plan = Task(\n",
    "    description=(\n",
    "        \"1. Prioritize the latest trends, key players, \"\n",
    "            \"and noteworthy news on {topic}.\\n\"\n",
    "        \"2. Identify the target audience, considering \"\n",
    "            \"their interests and pain points.\\n\"\n",
    "        \"3. Develop a detailed content outline including \"\n",
    "            \"an introduction, key points, and a call to action.\\n\"\n",
    "        \"4. Include SEO keywords and relevant data or sources.\"\n",
    "    ),\n",
    "    expected_output=\"A comprehensive content plan document \"\n",
    "        \"with an outline, audience analysis, \"\n",
    "        \"SEO keywords, and resources.\",\n",
    "    agent=planner,\n",
    ")"
   ]
  },
  {
   "cell_type": "code",
   "execution_count": 8,
   "metadata": {},
   "outputs": [],
   "source": [
    "write = Task(\n",
    "    description=(\n",
    "        \"1. Use the content plan to craft a compelling \"\n",
    "            \"blog post on {topic}.\\n\"\n",
    "        \"2. Incorporate SEO keywords naturally.\\n\"\n",
    "        \"3. Sections/Subtitles are properly named \"\n",
    "            \"in an engaging manner.\\n\"\n",
    "        \"4. Ensure the post is structured with an \"\n",
    "            \"engaging introduction, insightful body, \"\n",
    "            \"and a summarizing conclusion.\\n\"\n",
    "        \"5. Proofread for grammatical errors and \"\n",
    "            \"alignment with the brand's voice.\\n\"\n",
    "    ),\n",
    "    expected_output=\"A well-written blog post \"\n",
    "        \"in markdown format, ready for publication, \"\n",
    "        \"each section should have 2 or 3 paragraphs.\",\n",
    "    agent=writer,\n",
    ")"
   ]
  },
  {
   "cell_type": "code",
   "execution_count": 9,
   "metadata": {},
   "outputs": [],
   "source": [
    "edit = Task(\n",
    "    description=(\"Proofread the given blog post for \"\n",
    "                 \"grammatical errors and \"\n",
    "                 \"alignment with the brand's voice.\"),\n",
    "    expected_output=\"A well-written blog post in markdown format, \"\n",
    "                    \"ready for publication, \"\n",
    "                    \"each section should have 2 or 3 paragraphs.\",\n",
    "    agent=editor\n",
    ")"
   ]
  },
  {
   "cell_type": "code",
   "execution_count": 16,
   "metadata": {},
   "outputs": [
    {
     "name": "stderr",
     "output_type": "stream",
     "text": [
      "2024-10-06 15:22:04,617 - 139632580514880 - __init__.py-__init__:538 - WARNING: Overriding of current TracerProvider is not allowed\n"
     ]
    }
   ],
   "source": [
    "crew = Crew(\n",
    "    agents=[planner, writer, editor],\n",
    "    tasks=[plan, write, edit],\n",
    "    # verbose=2\n",
    ")"
   ]
  },
  {
   "cell_type": "code",
   "execution_count": 29,
   "metadata": {},
   "outputs": [
    {
     "name": "stdout",
     "output_type": "stream",
     "text": [
      "\u001b[1m\u001b[95m# Agent:\u001b[00m \u001b[1m\u001b[92mContent Planner\u001b[00m\n",
      "\u001b[95m## Task:\u001b[00m \u001b[92m1. Prioritize the latest trends, key players, and noteworthy news on GPU Cluster Architecture.\n",
      "2. Identify the target audience, considering their interests and pain points.\n",
      "3. Develop a detailed content outline including an introduction, key points, and a call to action.\n",
      "4. Include SEO keywords and relevant data or sources.\u001b[00m\n",
      "\n",
      "\n",
      "\u001b[1m\u001b[95m# Agent:\u001b[00m \u001b[1m\u001b[92mContent Planner\u001b[00m\n",
      "\u001b[95m## Final Answer:\u001b[00m \u001b[92m\n",
      "**Title: Unveiling the Power of GPU Cluster Architecture: A Comprehensive Guide**\n",
      "\n",
      "**Introduction:**\n",
      "In the realm of high-performance computing, GPU cluster architecture has emerged as a game-changer, enabling massive parallel processing capabilities for a diverse range of applications. In this article, we will delve into the latest trends, key players, and advancements in GPU cluster architecture, shedding light on how organizations can leverage this technology to enhance their computational capabilities.\n",
      "\n",
      "**Key Points:**\n",
      "1. **Latest Trends in GPU Cluster Architecture:**\n",
      "   - The shift towards heterogeneous computing leveraging GPUs for parallel processing.\n",
      "   - Adoption of deep learning frameworks like TensorFlow and PyTorch for AI applications.\n",
      "   - Integration of GPU clusters in cloud services for scalable computing resources.\n",
      "\n",
      "2. **Key Players in the GPU Cluster Market:**\n",
      "   - NVIDIA: Leading the market with its Tesla GPUs and CUDA parallel computing platform.\n",
      "   - AMD: Gaining traction with its Radeon Instinct accelerators for scientific computing.\n",
      "   - Intel: Innovating with its Xe Graphics Architecture for high-performance computing.\n",
      "\n",
      "3. **Noteworthy News in GPU Cluster Architecture:**\n",
      "   - Development of GPUs with specialized cores for specific workloads like AI inference.\n",
      "   - Introduction of NVLink technology for high-speed interconnection between GPUs in clusters.\n",
      "   - Collaboration between hardware vendors and software developers to optimize performance.\n",
      "\n",
      "**Target Audience:**\n",
      "Our target audience includes IT professionals, data scientists, researchers, and decision-makers in industries like healthcare, finance, and academia. They are interested in improving computational efficiency, accelerating data analysis, and staying informed about cutting-edge technologies to drive innovation in their respective fields.\n",
      "\n",
      "**Pain Points:**\n",
      "- Limited computational power hindering complex simulations and data processing.\n",
      "- High costs associated with building and maintaining in-house high-performance computing clusters.\n",
      "- Lack of awareness about the benefits and applications of GPU cluster architecture.\n",
      "\n",
      "**Content Outline:**\n",
      "1. Introduction to GPU Cluster Architecture\n",
      "2. Latest Trends and Developments\n",
      "3. Key Players and Innovations\n",
      "4. Applications and Use Cases\n",
      "5. Benefits and Challenges\n",
      "6. Case Studies of Successful Implementations\n",
      "7. Future Prospects and Emerging Technologies\n",
      "8. Call to Action: Exploring GPU Cluster Solutions for Your Organization\n",
      "\n",
      "**SEO Keywords:**\n",
      "- GPU cluster architecture\n",
      "- High-performance computing clusters\n",
      "- Parallel processing with GPUs\n",
      "- AI applications of GPU clusters\n",
      "- Cloud-based GPU computing\n",
      "- NVIDIA Tesla GPUs\n",
      "- AMD Radeon Instinct accelerators\n",
      "- Intel Xe Graphics Architecture\n",
      "\n",
      "**Resources:**\n",
      "1. NVIDIA Developer - https://developer.nvidia.com/\n",
      "2. AMD Radeon Instinct - https://www.amd.com/en/graphics/servers-solutions-radeon-instinct\n",
      "3. Intel High-Performance Computing - https://www.intel.com/content/www/us/en/high-performance-computing/home.html\n",
      "\n",
      "By addressing the latest trends, key players, and providing valuable insights for our target audience, this article aims to serve as a comprehensive guide to GPU cluster architecture, empowering readers to make informed decisions and unlock the full potential of parallel processing technologies.\u001b[00m\n",
      "\n",
      "\n",
      "\u001b[1m\u001b[95m# Agent:\u001b[00m \u001b[1m\u001b[92mContent Writer\u001b[00m\n",
      "\u001b[95m## Task:\u001b[00m \u001b[92m1. Use the content plan to craft a compelling blog post on GPU Cluster Architecture.\n",
      "2. Incorporate SEO keywords naturally.\n",
      "3. Sections/Subtitles are properly named in an engaging manner.\n",
      "4. Ensure the post is structured with an engaging introduction, insightful body, and a summarizing conclusion.\n",
      "5. Proofread for grammatical errors and alignment with the brand's voice.\n",
      "\u001b[00m\n",
      "\n",
      "\n",
      "\u001b[1m\u001b[95m# Agent:\u001b[00m \u001b[1m\u001b[92mContent Writer\u001b[00m\n",
      "\u001b[95m## Final Answer:\u001b[00m \u001b[92m\n",
      "# Unveiling the Power of GPU Cluster Architecture: A Comprehensive Guide\n",
      "\n",
      "## Introduction\n",
      "In the world of high-performance computing, GPU cluster architecture stands out as a revolutionary technology that enables remarkable parallel processing capabilities across a wide array of applications. This article aims to explore the latest trends, key players, and advancements in GPU cluster architecture, shedding light on how organizations can harness this technology to amplify their computational prowess and drive innovation.\n",
      "\n",
      "## Latest Trends in GPU Cluster Architecture\n",
      "The landscape of GPU cluster architecture is witnessing a significant shift towards heterogeneous computing, where GPUs play a pivotal role in parallel processing tasks. This approach allows for enhanced computational efficiency, especially in fields like artificial intelligence with the widespread adoption of deep learning frameworks such as TensorFlow and PyTorch. Moreover, the integration of GPU clusters in cloud services has opened up new avenues for organizations to access scalable computing resources on demand, fostering agility and flexibility in computational tasks.\n",
      "\n",
      "## Key Players in the GPU Cluster Market\n",
      "In the realm of GPU cluster architecture, several key players are spearheading innovation and driving the industry forward. NVIDIA stands out prominently, leading the market with its Tesla GPUs and the widely acclaimed CUDA parallel computing platform. On the other hand, AMD is making significant strides with its Radeon Instinct accelerators, particularly in scientific computing applications. Intel, with its innovative Xe Graphics Architecture, is also making waves in the high-performance computing arena, contributing to the diversity and competitiveness of the GPU cluster market.\n",
      "\n",
      "## Noteworthy News in GPU Cluster Architecture\n",
      "The continuous evolution of GPU cluster architecture is marked by noteworthy advancements that cater to the increasing demands of diverse workloads. Manufacturers are developing GPUs with specialized cores tailored for specific tasks like AI inference, enhancing performance and efficiency. Additionally, technologies like NVLink have been introduced to facilitate high-speed interconnection between GPUs within clusters, optimizing data transfer and processing capabilities. Furthermore, collaborations between hardware vendors and software developers are paving the way for enhanced performance optimizations, ensuring that GPU cluster architectures remain at the forefront of cutting-edge computing solutions.\n",
      "\n",
      "By addressing these latest trends and developments, showcasing the key players driving innovation, and highlighting the advancements in GPU cluster architecture, this article aims to provide valuable insights for IT professionals, data scientists, researchers, and decision-makers across various industries. Stay tuned for the upcoming sections where we will delve deeper into applications, benefits, challenges, case studies, and the future prospects of GPU cluster architecture.\u001b[00m\n",
      "\n",
      "\n",
      "\u001b[1m\u001b[95m# Agent:\u001b[00m \u001b[1m\u001b[92mEditor\u001b[00m\n",
      "\u001b[95m## Task:\u001b[00m \u001b[92mProofread the given blog post for grammatical errors and alignment with the brand's voice.\u001b[00m\n",
      "\n",
      "\n",
      "\u001b[1m\u001b[95m# Agent:\u001b[00m \u001b[1m\u001b[92mEditor\u001b[00m\n",
      "\u001b[95m## Final Answer:\u001b[00m \u001b[92m\n",
      "# Unveiling the Power of GPU Cluster Architecture: A Comprehensive Guide\n",
      "\n",
      "## Introduction\n",
      "In the realm of high-performance computing, GPU cluster architecture emerges as a groundbreaking technology that facilitates remarkable parallel processing capabilities across a diverse range of applications. This article intends to delve into the latest trends, key players, and advancements within GPU cluster architecture, illuminating how organizations can leverage this technology to enhance their computational abilities and foster innovation in various domains.\n",
      "\n",
      "## Latest Trends in GPU Cluster Architecture\n",
      "The domain of GPU cluster architecture is undergoing a notable transition towards heterogeneous computing, leveraging GPUs for efficient parallel processing tasks. This approach enhances computational efficacy, especially in fields like artificial intelligence, driven by the widespread adoption of deep learning frameworks like TensorFlow and PyTorch. Moreover, the incorporation of GPU clusters in cloud services has unlocked new possibilities for organizations to access scalable computing resources as per their requirements, promoting agility and versatility in computational operations.\n",
      "\n",
      "## Key Players in the GPU Cluster Market\n",
      "Within the realm of GPU cluster architecture, several prominent entities are spearheading innovation and propelling the industry towards advancements. Notably, NVIDIA holds a leading position with its Tesla GPUs and the renowned CUDA parallel computing platform. Conversely, AMD is making significant progress with its Radeon Instinct accelerators, especially in scientific computing realms. Intel, through its innovative Xe Graphics Architecture, is also leaving a mark in the high-performance computing sector, contributing to the diversity and competitiveness of the GPU cluster market.\n",
      "\n",
      "## Noteworthy News in GPU Cluster Architecture\n",
      "The ongoing evolution of GPU cluster architecture is characterized by significant advancements catering to the escalating demands of varied workloads. Manufacturers are designing GPUs with specialized cores tailored for specific tasks such as AI inference, thereby boosting performance and efficiency. Additionally, technologies like NVLink have been introduced to facilitate high-speed interconnections among GPUs within clusters, optimizing data transfer and processing capacities. Furthermore, collaborations between hardware vendors and software developers are paving the way for enhanced performance optimizations, ensuring that GPU cluster architectures remain at the forefront of cutting-edge computing solutions.\n",
      "\n",
      "By exploring these latest trends and advancements, highlighting the key players shaping innovation, and showcasing the progress in GPU cluster architecture, this article endeavors to offer valuable insights for IT professionals, data scientists, researchers, and decision-makers across diverse industries. Stay tuned for the upcoming sections where we will further explore applications, benefits, challenges, case studies, and the future prospects of GPU cluster architecture.\u001b[00m\n",
      "\n",
      "\n"
     ]
    }
   ],
   "source": [
    "result = crew.kickoff(inputs={\"topic\": \"GPU Cluster Architecture\"})\n"
   ]
  },
  {
   "cell_type": "code",
   "execution_count": 30,
   "metadata": {},
   "outputs": [
    {
     "data": {
      "text/plain": [
       "'# Unveiling the Power of GPU Cluster Architecture: A Comprehensive Guide\\n\\n## Introduction\\nIn the realm of high-performance computing, GPU cluster architecture emerges as a groundbreaking technology that facilitates remarkable parallel processing capabilities across a diverse range of applications. This article intends to delve into the latest trends, key players, and advancements within GPU cluster architecture, illuminating how organizations can leverage this technology to enhance their computational abilities and foster innovation in various domains.\\n\\n## Latest Trends in GPU Cluster Architecture\\nThe domain of GPU cluster architecture is undergoing a notable transition towards heterogeneous computing, leveraging GPUs for efficient parallel processing tasks. This approach enhances computational efficacy, especially in fields like artificial intelligence, driven by the widespread adoption of deep learning frameworks like TensorFlow and PyTorch. Moreover, the incorporation of GPU clusters in cloud services has unlocked new possibilities for organizations to access scalable computing resources as per their requirements, promoting agility and versatility in computational operations.\\n\\n## Key Players in the GPU Cluster Market\\nWithin the realm of GPU cluster architecture, several prominent entities are spearheading innovation and propelling the industry towards advancements. Notably, NVIDIA holds a leading position with its Tesla GPUs and the renowned CUDA parallel computing platform. Conversely, AMD is making significant progress with its Radeon Instinct accelerators, especially in scientific computing realms. Intel, through its innovative Xe Graphics Architecture, is also leaving a mark in the high-performance computing sector, contributing to the diversity and competitiveness of the GPU cluster market.\\n\\n## Noteworthy News in GPU Cluster Architecture\\nThe ongoing evolution of GPU cluster architecture is characterized by significant advancements catering to the escalating demands of varied workloads. Manufacturers are designing GPUs with specialized cores tailored for specific tasks such as AI inference, thereby boosting performance and efficiency. Additionally, technologies like NVLink have been introduced to facilitate high-speed interconnections among GPUs within clusters, optimizing data transfer and processing capacities. Furthermore, collaborations between hardware vendors and software developers are paving the way for enhanced performance optimizations, ensuring that GPU cluster architectures remain at the forefront of cutting-edge computing solutions.\\n\\nBy exploring these latest trends and advancements, highlighting the key players shaping innovation, and showcasing the progress in GPU cluster architecture, this article endeavors to offer valuable insights for IT professionals, data scientists, researchers, and decision-makers across diverse industries. Stay tuned for the upcoming sections where we will further explore applications, benefits, challenges, case studies, and the future prospects of GPU cluster architecture.'"
      ]
     },
     "execution_count": 30,
     "metadata": {},
     "output_type": "execute_result"
    }
   ],
   "source": [
    "type(result)\n",
    "str(result)"
   ]
  },
  {
   "cell_type": "code",
   "execution_count": 31,
   "metadata": {},
   "outputs": [
    {
     "data": {
      "text/markdown": [
       "# Unveiling the Power of GPU Cluster Architecture: A Comprehensive Guide\n",
       "\n",
       "## Introduction\n",
       "In the realm of high-performance computing, GPU cluster architecture emerges as a groundbreaking technology that facilitates remarkable parallel processing capabilities across a diverse range of applications. This article intends to delve into the latest trends, key players, and advancements within GPU cluster architecture, illuminating how organizations can leverage this technology to enhance their computational abilities and foster innovation in various domains.\n",
       "\n",
       "## Latest Trends in GPU Cluster Architecture\n",
       "The domain of GPU cluster architecture is undergoing a notable transition towards heterogeneous computing, leveraging GPUs for efficient parallel processing tasks. This approach enhances computational efficacy, especially in fields like artificial intelligence, driven by the widespread adoption of deep learning frameworks like TensorFlow and PyTorch. Moreover, the incorporation of GPU clusters in cloud services has unlocked new possibilities for organizations to access scalable computing resources as per their requirements, promoting agility and versatility in computational operations.\n",
       "\n",
       "## Key Players in the GPU Cluster Market\n",
       "Within the realm of GPU cluster architecture, several prominent entities are spearheading innovation and propelling the industry towards advancements. Notably, NVIDIA holds a leading position with its Tesla GPUs and the renowned CUDA parallel computing platform. Conversely, AMD is making significant progress with its Radeon Instinct accelerators, especially in scientific computing realms. Intel, through its innovative Xe Graphics Architecture, is also leaving a mark in the high-performance computing sector, contributing to the diversity and competitiveness of the GPU cluster market.\n",
       "\n",
       "## Noteworthy News in GPU Cluster Architecture\n",
       "The ongoing evolution of GPU cluster architecture is characterized by significant advancements catering to the escalating demands of varied workloads. Manufacturers are designing GPUs with specialized cores tailored for specific tasks such as AI inference, thereby boosting performance and efficiency. Additionally, technologies like NVLink have been introduced to facilitate high-speed interconnections among GPUs within clusters, optimizing data transfer and processing capacities. Furthermore, collaborations between hardware vendors and software developers are paving the way for enhanced performance optimizations, ensuring that GPU cluster architectures remain at the forefront of cutting-edge computing solutions.\n",
       "\n",
       "By exploring these latest trends and advancements, highlighting the key players shaping innovation, and showcasing the progress in GPU cluster architecture, this article endeavors to offer valuable insights for IT professionals, data scientists, researchers, and decision-makers across diverse industries. Stay tuned for the upcoming sections where we will further explore applications, benefits, challenges, case studies, and the future prospects of GPU cluster architecture."
      ],
      "text/plain": [
       "<IPython.core.display.Markdown object>"
      ]
     },
     "execution_count": 31,
     "metadata": {},
     "output_type": "execute_result"
    }
   ],
   "source": [
    "from IPython.display import Markdown\n",
    "Markdown(str(result))"
   ]
  }
 ],
 "metadata": {
  "kernelspec": {
   "display_name": "crewai",
   "language": "python",
   "name": "python3"
  },
  "language_info": {
   "codemirror_mode": {
    "name": "ipython",
    "version": 3
   },
   "file_extension": ".py",
   "mimetype": "text/x-python",
   "name": "python",
   "nbconvert_exporter": "python",
   "pygments_lexer": "ipython3",
   "version": "3.12.7"
  }
 },
 "nbformat": 4,
 "nbformat_minor": 2
}
